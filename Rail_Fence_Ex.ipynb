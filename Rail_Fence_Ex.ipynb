{
 "cells": [
  {
   "cell_type": "markdown",
   "id": "ee77138b-2d47-487f-aa50-79bf228bbe24",
   "metadata": {},
   "source": [
    "This is an exercise to encode rail fence cypher with 3 rails.\n",
    "The number of columns is the length of the text message in characters\n",
    "The number of rails is the key to use in distributing the letters in the cypher to their rows."
   ]
  },
  {
   "cell_type": "code",
   "execution_count": 79,
   "id": "99bac0df-ebd6-4219-97c6-a6ee23fcea19",
   "metadata": {},
   "outputs": [],
   "source": [
    "text = '''WE WILL RUN THE BATTERIES AT VICKSBURG THE NIGHT OF APRIL 16 AND PROCEED TO GRAND GULF /\n",
    "WHERE WE WILL REDUCE THE FORTS BE PREPARED TO CROSS THE RIVER ON APRIL 25 OR 29 ADMIRAL PORTER'''\n",
    "key = 3"
   ]
  },
  {
   "cell_type": "code",
   "execution_count": 80,
   "id": "7feaed85-9cc5-48fe-a239-e1077e49acb7",
   "metadata": {},
   "outputs": [],
   "source": [
    "# build empty list for the data\n",
    "enc=[[\" \" for i in range(len(text))] for j in range(key)]\n",
    "#print(enc)\n"
   ]
  },
  {
   "cell_type": "code",
   "execution_count": 81,
   "id": "2d97165e-6ab6-4277-a4e7-1f1a85085416",
   "metadata": {},
   "outputs": [],
   "source": [
    "flag=0 ## determine if going up or down the rows\n",
    "row=0 ## which row the value goes into 0 is going down, 1 is going up"
   ]
  },
  {
   "cell_type": "code",
   "execution_count": 82,
   "id": "38efa1c8-3b8a-4c46-8e92-9511d02d1e96",
   "metadata": {},
   "outputs": [],
   "source": [
    "for i in range(len(text)):\n",
    "  enc[row][i]=text[i]\n",
    "  if row==0:\n",
    "    flag=0\n",
    "  elif row==key-1:\n",
    "    flag=1\n",
    "  if flag==0:\n",
    "    row+=1\n",
    "  else:\n",
    "    row-=1"
   ]
  },
  {
   "cell_type": "code",
   "execution_count": 83,
   "id": "680ca95c-459d-4474-a1b8-3e2166f26d25",
   "metadata": {},
   "outputs": [
    {
     "name": "stdout",
     "output_type": "stream",
     "text": [
      "W   I   R   T   B   E   S       K   R   H   I       A   L           C       G   D   L   \n",
      "   R   E   L   E   E   E   R   B   R   R   T   R           E   N   R   2   R       I       T  \n",
      " E W L   U   H   A T R E   T V C S U G T E N G T O   P I   6 A D P O E D T   R N   U F / W E E W   I L R D C   H   O T   E P E A E   O C O S T E R V R O   P I   5 O   9 A M R L P R E \n",
      "      L   N   E   T   I   A   I   B           H   F   R   1   N   R   E   O   A   G       H       W       U   T   F   S       P   D       S   H   I       A   L       2   D   A   O   R\n"
     ]
    }
   ],
   "source": [
    "for i in range(key):\n",
    "  print(\"\".join(enc[i]))"
   ]
  },
  {
   "cell_type": "code",
   "execution_count": 84,
   "id": "b4481fb1-a7df-4a1a-8e5d-d41e98879ed8",
   "metadata": {},
   "outputs": [],
   "source": [
    "ct=[]\n",
    "for i in range(key):\n",
    "    for j in range(len(text)):\n",
    "        if enc[i][j]!=' ':\n",
    "            ct.append(enc[i][j])"
   ]
  },
  {
   "cell_type": "code",
   "execution_count": 78,
   "id": "decf0a63-8827-4296-aa43-97f44c177aed",
   "metadata": {},
   "outputs": [
    {
     "name": "stdout",
     "output_type": "stream",
     "text": [
      "Cipher Text:  WLTTSIRRRALHEEFBPTSRATELHATEVCUGENTOPI6APODTRNUFWEWLRCOEEAOOSERROPI5O9ARLREIRNEBEIAKBHIHFAL1NCEOGDG\n",
      "RWLEUTERSRRDRHIENAL2R2DIORWURTSTGDE/EIDHTPECTVMP\n"
     ]
    }
   ],
   "source": [
    "cipher=\"\".join(ct)\n",
    "print(\"Cipher Text: \",cipher)"
   ]
  },
  {
   "cell_type": "code",
   "execution_count": null,
   "id": "39b8090b-85a4-4d9a-80c0-9a5f7261e66f",
   "metadata": {},
   "outputs": [],
   "source": []
  }
 ],
 "metadata": {
  "kernelspec": {
   "display_name": "Python 3 (ipykernel)",
   "language": "python",
   "name": "python3"
  },
  "language_info": {
   "codemirror_mode": {
    "name": "ipython",
    "version": 3
   },
   "file_extension": ".py",
   "mimetype": "text/x-python",
   "name": "python",
   "nbconvert_exporter": "python",
   "pygments_lexer": "ipython3",
   "version": "3.9.13"
  }
 },
 "nbformat": 4,
 "nbformat_minor": 5
}
